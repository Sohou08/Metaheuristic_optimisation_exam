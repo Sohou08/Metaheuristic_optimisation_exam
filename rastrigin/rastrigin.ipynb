{
 "cells": [
  {
   "cell_type": "code",
   "execution_count": 73,
   "metadata": {},
   "outputs": [],
   "source": [
    "from __future__ import division\n",
    "from matplotlib import pyplot as plt\n",
    "import random\n",
    "import numpy as np\n",
    "import time\n",
    "import pandas as pd\n",
    "import math\n",
    "random.seed(0)"
   ]
  },
  {
   "cell_type": "code",
   "execution_count": 136,
   "metadata": {},
   "outputs": [],
   "source": [
    "# Read data from csv\n",
    "data = pd.read_csv(\"./data/rastrigin.csv\")\n",
    "rastrigin = data['fvalue'].tolist()\n",
    "#print(sphere)\n",
    "#sphere[1]\n",
    "\n",
    "bias = -330\n",
    "D = 500 # Dimension\n",
    "lower_bound = -5\n",
    "upper_bound =  5\n",
    "\n",
    "def cost_function(x, dim= D):\n",
    "    F = 0\n",
    "    for i in range(dim-1) :\n",
    "        z = x[i] - rastrigin[i]\n",
    "        F += z**2 -10 * math.cos(2 * math.pi * z)+10\n",
    "        res = F + bias\n",
    "    return res"
   ]
  },
  {
   "cell_type": "code",
   "execution_count": 137,
   "metadata": {},
   "outputs": [],
   "source": [
    "# Shifted Sphere Function: Dimension 50\n",
    "# Particle Swarm Optimization\n",
    "\n",
    "from __future__ import division\n",
    "from matplotlib import pyplot as plt\n",
    "import random\n",
    "import numpy as np\n",
    "import time\n",
    "\n",
    "start_time = time.time() # evaluate computational time\n",
    "\n",
    "class Particle:\n",
    "    def __init__(self,x0):\n",
    "        self.position_i=[]          # particle position\n",
    "        self.velocity_i=[]          # particle velocity\n",
    "        self.pos_best_i=[]          # best position individual\n",
    "        self.err_best_i=-1          # best error individual\n",
    "        self.err_i=-1               # error individual\n",
    "\n",
    "        for i in range(0,num_dimensions):\n",
    "            self.velocity_i.append(random.uniform(-1,1))\n",
    "            self.position_i.append(x0[i])\n",
    "            \n",
    "    # evaluate current fitness\n",
    "    def evaluate(self,costFunc):\n",
    "        self.err_i=costFunc(self.position_i)\n",
    "\n",
    "        # check to see if the current position is an individual best\n",
    "        if self.err_i < self.err_best_i or self.err_best_i==-1:\n",
    "            self.pos_best_i=self.position_i\n",
    "            self.err_best_i=self.err_i        \n",
    "            \n",
    "    # update new particle velocity\n",
    "    def update_velocity(self,pos_best_g):\n",
    "        w=0.3     # constant inertia weight (how much to weigh the previous velocity)\n",
    "        c1=1    # cognative constant\n",
    "        c2=1    # social constant\n",
    "\n",
    "        for i in range(0,num_dimensions):\n",
    "            r1=random.random()\n",
    "            r2=random.random()\n",
    "\n",
    "            vel_cognitive=c1*r1*(self.pos_best_i[i]-self.position_i[i])\n",
    "            vel_social=c2*r2*(pos_best_g[i]-self.position_i[i])\n",
    "            self.velocity_i[i]=w*self.velocity_i[i]+vel_cognitive+vel_social\n",
    "            \n",
    "    # update the particle position based off new velocity updates\n",
    "    def update_position(self,bounds):\n",
    "        for i in range(0,num_dimensions):\n",
    "            self.position_i[i]=self.position_i[i]+self.velocity_i[i]\n",
    "\n",
    "            # adjust maximum position if necessary\n",
    "            if self.position_i[i]>bounds[i][1]:\n",
    "                self.position_i[i]=bounds[i][1]\n",
    "\n",
    "            # adjust minimum position if neseccary\n",
    "            if self.position_i[i] < bounds[i][0]:\n",
    "                self.position_i[i]=bounds[i][0]            \n",
    "\n",
    "                \n",
    "def PSO(costFunc,x0,bounds,num_particles,maxiter):\n",
    "    global num_dimensions    \n",
    "\n",
    "    \n",
    "    num_dimensions = len(x0)\n",
    "    err_all = np.empty((0,1))\n",
    "    err_best_g = -1                   # best error for group\n",
    "    pos_best_g = []                   # best position for group\n",
    "\n",
    "    # establish the swarm\n",
    "    swarm=[]\n",
    "    for i in range(0,num_particles):\n",
    "        swarm.append(Particle(x0))\n",
    "\n",
    "    # begin optimization loop\n",
    "    i=0\n",
    "    while i < maxiter:\n",
    "        #print i,err_best_g\n",
    "        # cycle through particles in swarm and evaluate fitness\n",
    "        for j in range(0,num_particles):\n",
    "            swarm[j].evaluate(costFunc)\n",
    "           \n",
    "            \n",
    "            # determine if current particle is the best (globally)\n",
    "            if swarm[j].err_i < err_best_g or err_best_g == -1:\n",
    "                pos_best_g = list(swarm[j].position_i)\n",
    "                err_best_g = float(swarm[j].err_i)\n",
    "\n",
    "        # cycle through swarm and update velocities and position\n",
    "        for j in range(0,num_particles):\n",
    "            swarm[j].update_velocity(pos_best_g)\n",
    "            swarm[j].update_position(bounds)\n",
    "        \n",
    "        \n",
    "        err_all = np.vstack((err_all,err_best_g)) \n",
    "        i+=1        \n",
    "          \n",
    "    return  err_all, pos_best_g, err_best_g \n",
    " "
   ]
  },
  {
   "cell_type": "code",
   "execution_count": 138,
   "metadata": {},
   "outputs": [],
   "source": [
    "\n",
    "# Parameter for PSO\n",
    "initial= np.random.uniform(lower_bound, upper_bound, D)            # initial starting location\n",
    "bounds = [(lower_bound, upper_bound,) for x in range(D)]"
   ]
  },
  {
   "cell_type": "code",
   "execution_count": 141,
   "metadata": {},
   "outputs": [],
   "source": [
    "optimize = PSO(cost_function,initial,bounds,num_particles=15,maxiter=30)\n"
   ]
  },
  {
   "cell_type": "code",
   "execution_count": 135,
   "metadata": {},
   "outputs": [
    {
     "name": "stdout",
     "output_type": "stream",
     "text": [
      "The best fitness is:  698.3260427974717\n",
      "Dimension = 50\n",
      "weight  = 0.3\n",
      "c1= 1\n",
      "c2= 1\n"
     ]
    },
    {
     "data": {
      "image/png": "[encoded data removed]",
      "text/plain": [
       "<Figure size 432x288 with 1 Axes>"
      ]
     },
     "metadata": {
      "needs_background": "light"
     },
     "output_type": "display_data"
    },
    {
     "name": "stdout",
     "output_type": "stream",
     "text": [
      "Computational time: 20.198 seconds\n"
     ]
    }
   ],
   "source": [
    "print (\"The best fitness is: \", optimize[2])\n",
    "print('Dimension = 50')\n",
    "print('weight  = 0.3')\n",
    "print('c1= 1')\n",
    "print('c2= 1')\n",
    "\n",
    "plt.plot(optimize[0])\n",
    "plt.title(\"Shifted Sphere Function\",fontsize=20,fontweight='bold')\n",
    "plt.xlabel(\"Iterations\",fontsize=18,fontweight='bold')\n",
    "plt.ylabel(\"Cost\",fontsize=18,fontweight='bold')\n",
    "plt.xticks(fontweight='bold')\n",
    "plt.yticks(fontweight='bold')\n",
    "plt.show()\n",
    "\n",
    "print(\"Computational time: {:.3f} seconds\".format(time.time()-start_time))\n"
   ]
  },
  {
   "cell_type": "code",
   "execution_count": null,
   "metadata": {},
   "outputs": [],
   "source": []
  },
  {
   "cell_type": "code",
   "execution_count": 142,
   "metadata": {},
   "outputs": [
    {
     "name": "stdout",
     "output_type": "stream",
     "text": [
      "The best fitness is:  12391.050602188889\n",
      "Dimension = 500\n",
      "weight  = 0.3\n",
      "c1= 1\n",
      "c2= 1\n"
     ]
    },
    {
     "data": {
      "image/png": "[encoded data removed]",
      "text/plain": [
       "<Figure size 432x288 with 1 Axes>"
      ]
     },
     "metadata": {
      "needs_background": "light"
     },
     "output_type": "display_data"
    },
    {
     "name": "stdout",
     "output_type": "stream",
     "text": [
      "Computational time: 42.631 seconds\n"
     ]
    }
   ],
   "source": [
    "print (\"The best fitness is: \", optimize[2])\n",
    "\n",
    "print('Dimension = 500')\n",
    "print('weight  = 0.3')\n",
    "print('c1= 1')\n",
    "print('c2= 1')\n",
    "plt.plot(optimize[0])\n",
    "plt.title(\"Shifted Sphere Function\",fontsize=20,fontweight='bold')\n",
    "plt.xlabel(\"Iterations\",fontsize=18,fontweight='bold')\n",
    "plt.ylabel(\"Cost\",fontsize=18,fontweight='bold')\n",
    "plt.xticks(fontweight='bold')\n",
    "plt.yticks(fontweight='bold')\n",
    "plt.show()\n",
    "\n",
    "print(\"Computational time: {:.3f} seconds\".format(time.time()-start_time))\n"
   ]
  },
  {
   "cell_type": "code",
   "execution_count": null,
   "metadata": {},
   "outputs": [],
   "source": []
  }
 ],
 "metadata": {
  "kernelspec": {
   "display_name": "Python 3",
   "language": "python",
   "name": "python3"
  },
  "language_info": {
   "codemirror_mode": {
    "name": "ipython",
    "version": 3
   },
   "file_extension": ".py",
   "mimetype": "text/x-python",
   "name": "python",
   "nbconvert_exporter": "python",
   "pygments_lexer": "ipython3",
   "version": "3.7.4"
  }
 },
 "nbformat": 4,
 "nbformat_minor": 2
}
