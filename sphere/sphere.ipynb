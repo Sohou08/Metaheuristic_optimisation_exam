{
 "cells": [
  {
   "cell_type": "code",
   "execution_count": 1,
   "metadata": {},
   "outputs": [],
   "source": [
    "import os\n",
    "import time\n",
    "import math\n",
    "import pandas as pd\n",
    "import numpy as np\n",
    "import matplotlib.pyplot as plt\n",
    "\n",
    "from numba import jit\n",
    "from scipy import optimize"
   ]
  },
  {
   "cell_type": "code",
   "execution_count": 2,
   "metadata": {},
   "outputs": [],
   "source": [
    "data = pd.read_csv(\"./data/sphere.csv\")\n",
    "sphere = data['fvalue'].tolist()\n",
    "#print(sphere)\n",
    "#sphere[1]\n",
    "\n",
    "#data_bias = pd.read_csv(\"./data/f_bias.csv\")\n",
    "#bias = data_bias['fvalue'].tolist()\n",
    "bias = -450.0"
   ]
  },
  {
   "cell_type": "code",
   "execution_count": 3,
   "metadata": {},
   "outputs": [],
   "source": [
    "lower_bound = -100\n",
    "upper_bound =  100"
   ]
  },
  {
   "cell_type": "code",
   "execution_count": 4,
   "metadata": {},
   "outputs": [],
   "source": [
    "def function(x, dim):\n",
    "    F = 0\n",
    "    for i in range(0,dim) :\n",
    "        z = (x[i]-sphere[i])**2 \n",
    "        F += z\n",
    "    res = F + bias\n",
    "    return res"
   ]
  },
  {
   "cell_type": "code",
   "execution_count": 5,
   "metadata": {},
   "outputs": [],
   "source": [
    "\n",
    "def f(x, dim):\n",
    "    result = function(x, dim)\n",
    "    fitness.append(result)\n",
    "    return result"
   ]
  },
  {
   "cell_type": "code",
   "execution_count": 6,
   "metadata": {},
   "outputs": [],
   "source": [
    "def initial_solution(dim, lower_bound, upper_bound):\n",
    "    xmin = lower_bound * np.ones(dim)\n",
    "    xmax = upper_bound * np.ones(dim)\n",
    "    x0 = np.random.uniform(min(xmin), max(xmax), dim)\n",
    "    return x0"
   ]
  },
  {
   "cell_type": "code",
   "execution_count": 7,
   "metadata": {},
   "outputs": [],
   "source": [
    "\n",
    "def optimize_minimize(dim, lower_bound, upper_bound, method, options):\n",
    "    cur_x = initial_solution(dim, lower_bound, upper_bound)\n",
    "    t1 = time.time()\n",
    "    result = optimize.minimize(f, args=(dim), x0=cur_x, method=method, options=options)\n",
    "    t2 = time.time()\n",
    "    \n",
    "    return result, t2-t1, fitness"
   ]
  },
  {
   "cell_type": "code",
   "execution_count": 14,
   "metadata": {},
   "outputs": [],
   "source": [
    "def print_result(dimension, method, options, result, log, duration):\n",
    "    \n",
    "    algorithm_name = method\n",
    "    parameters = options\n",
    "    solution_x = result.x\n",
    "    fitness = log[-1]-bias\n",
    "    n_evals = len(log)\n",
    "    niter = result.nit\n",
    "    print('-'*60)\n",
    "    print(\"Function: %s\" % function_name)\n",
    "    print(\"Problem dimension: %d\" % dimension)\n",
    "    #print(\"Search Space: \", search_space)\n",
    "    print(\"Global Optimum: %.2f\\n\" % bias)\n",
    "    print('-'*60)\n",
    "    print(\"Algorithm: %s\" % algorithm_name)\n",
    "    print(\"Parameters: \\n%s\" % parameters)\n",
    "    print('-'*60)\n",
    "    print(\"Fitness: %f\" % fitness)\n",
    "    print(\"Solution: \")\n",
    "    with pd.option_context('display.max_rows',10):\n",
    "        print(pd.DataFrame(solution_x, columns=['X']))\n",
    "    print('-'*60)\n",
    "    print(\"Nb of functions evaluations: %d\" % n_evals)\n",
    "    print(\"Stopping criterion: ftol achieved: %.2e\" % options['ftol'])\n",
    "    print(result.message)\n",
    "    print(\"computational time: %.3f seconds\" % duration)\n",
    "    \n"
   ]
  },
  {
   "cell_type": "code",
   "execution_count": 15,
   "metadata": {},
   "outputs": [
    {
     "name": "stderr",
     "output_type": "stream",
     "text": [
      "C:\\Users\\angom\\Anaconda3\\lib\\site-packages\\ipykernel_launcher.py:4: OptimizeWarning: Unknown solver options: ftol\n",
      "  after removing the cwd from sys.path.\n"
     ]
    }
   ],
   "source": [
    "D = 50\n",
    "function_name = 'Shifted Sphere Function'\n",
    "fitness= []\n",
    "method = 'BFGS'\n",
    "options = {'maxiter': 100, 'ftol': 1e-5, 'disp': False}\n",
    "result, duration, logs = optimize_minimize(D, lower_bound,upper_bound, method, options)"
   ]
  },
  {
   "cell_type": "code",
   "execution_count": 16,
   "metadata": {},
   "outputs": [
    {
     "name": "stdout",
     "output_type": "stream",
     "text": [
      "------------------------------------------------------------\n",
      "Function: Shifted Sphere Function\n",
      "Problem dimension: 50\n",
      "Global Optimum: -450.00\n",
      "\n",
      "------------------------------------------------------------\n",
      "Algorithm: BFGS\n",
      "Parameters: \n",
      "{'maxiter': 100, 'ftol': 1e-05, 'disp': False}\n",
      "------------------------------------------------------------\n",
      "Fitness: 0.000000\n",
      "Solution: \n",
      "            X\n",
      "0   97.249935\n",
      "1   77.060982\n",
      "2  -19.031149\n",
      "3   25.428697\n",
      "4  -22.908804\n",
      "..        ...\n",
      "45 -24.766488\n",
      "46  90.441363\n",
      "47  43.864101\n",
      "48  55.868485\n",
      "49  23.531733\n",
      "\n",
      "[50 rows x 1 columns]\n",
      "------------------------------------------------------------\n",
      "Nb of functions evaluations: 520\n",
      "Stopping criterion: ftol achieved: 1.00e-05\n",
      "Optimization terminated successfully.\n",
      "computational time: 0.067 seconds\n"
     ]
    }
   ],
   "source": [
    "print_result(dimension = D, method = method, options = options, result= result, log=logs, duration= duration)\n"
   ]
  },
  {
   "cell_type": "code",
   "execution_count": null,
   "metadata": {},
   "outputs": [],
   "source": []
  },
  {
   "cell_type": "code",
   "execution_count": null,
   "metadata": {},
   "outputs": [],
   "source": []
  },
  {
   "cell_type": "code",
   "execution_count": 209,
   "metadata": {},
   "outputs": [
    {
     "name": "stderr",
     "output_type": "stream",
     "text": [
      "C:\\Users\\angom\\Anaconda3\\lib\\site-packages\\ipykernel_launcher.py:5: OptimizeWarning: Unknown solver options: ftol\n",
      "  \"\"\"\n"
     ]
    },
    {
     "name": "stdout",
     "output_type": "stream",
     "text": [
      "------------------------------------------------------------\n",
      "Function: Shifted Sphere Function\n",
      "Problem dimension: 500\n",
      "Global Optimum: -450.00\n",
      "\n",
      "------------------------------------------------------------\n",
      "Algorithm: BFGS\n",
      "Parameters: \n",
      "{'maxiter': 100, 'ftol': 1e-05, 'disp': False}\n",
      "------------------------------------------------------------\n",
      "Fitness: 0.000000\n",
      "Solution: \n",
      "             X\n",
      "0    97.249937\n",
      "1    77.060986\n",
      "2   -19.031147\n",
      "3    25.428696\n",
      "4   -22.908801\n",
      "..         ...\n",
      "495 -70.131730\n",
      "496 -17.071778\n",
      "497 -86.203051\n",
      "498  76.838813\n",
      "499  66.398857\n",
      "\n",
      "[500 rows x 1 columns]\n",
      "------------------------------------------------------------\n",
      "Nb of functions evaluations: 5522\n",
      "Stopping criterion: ftol achieved: 1.00e-05\n",
      "Optimization terminated successfully.\n",
      "computational time: 5.039 seconds\n"
     ]
    }
   ],
   "source": [
    "D = 500\n",
    "function_name = 'Shifted Sphere Function'\n",
    "fitness= []\n",
    "method = 'BFGS'\n",
    "options = {'maxiter': 100, 'ftol': 1e-5, 'disp': False}\n",
    "result, duration, logs = optimize_minimize(D, lower_bound,upper_bound, method, options)\n",
    "\n",
    "plot(dimension = D, method = method, options = options, result= result, log=logs, duration= duration)\n"
   ]
  },
  {
   "cell_type": "code",
   "execution_count": null,
   "metadata": {},
   "outputs": [],
   "source": []
  }
 ],
 "metadata": {
  "kernelspec": {
   "display_name": "Python 3",
   "language": "python",
   "name": "python3"
  },
  "language_info": {
   "codemirror_mode": {
    "name": "ipython",
    "version": 3
   },
   "file_extension": ".py",
   "mimetype": "text/x-python",
   "name": "python",
   "nbconvert_exporter": "python",
   "pygments_lexer": "ipython3",
   "version": "3.7.4"
  }
 },
 "nbformat": 4,
 "nbformat_minor": 2
}
